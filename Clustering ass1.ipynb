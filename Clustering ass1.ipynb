{
 "cells": [
  {
   "cell_type": "markdown",
   "id": "23b85978-0bf1-4d82-9f26-6840b8a80701",
   "metadata": {},
   "source": [
    "Q1. What are the different types of clustering algorithms, and how do they differ in terms of their approach\n",
    "and underlying assumptions?\n",
    "Ans->1)K means clustering\n",
    "     2)Heirarichal clustering\n",
    "     3)DBScan clustering\n",
    "     4)Silhouette clustering\n",
    "     \n",
    "     \n",
    "Q2.What is K-means clustering, and how does it work?\n",
    "Ans-> Make groups of different diff datasets will convert data into diff diff group in the form of clusters.\n",
    "Step1) initialize the k value(centroid)\n",
    "step2) points that are nearest to the centroid make a group or cluster\n",
    "step3) Move the entroid and take the average of data points \n",
    "step4) repeat the above process until a particular cluster belongs from a particular dataset/cluster/group.\n",
    "\n",
    "\n",
    "Q3. What are some advantages and limitations of K-means clustering compared to other clustering\n",
    "techniques?\n",
    "Ans-> K-means clustering can handle big datasets,also applicable for numerical value,k-means is faster than heirarichal\n",
    "It is very easy to understand and implement.\n",
    "k must be chosen manually, You must specify the number of clusters in advance.\n",
    "\n",
    "\n",
    "Q4. How do you determine the optimal number of clusters in K-means clustering, and what are some\n",
    "common methods for doing so?\n",
    "Ans->This is done by simply calculating the silhouette coefficient over a range of k, & identifying the peak as optimum K.\n",
    "\n",
    "\n",
    "Q5. What are some applications of K-means clustering in real-world scenarios, and how has it been used\n",
    "to solve specific problems?\n",
    "Ans->kmeans algorithm is very popular and used in a variety of applications such as market segmentation, document clustering, image segmentation and image compression, fraud detection, predicting account attrition,cybercrime identification, etc.\n",
    "\n",
    "\n",
    "\n",
    "Q6. What are some common challenges in implementing K-means clustering, and how can you address\n",
    "them?\n",
    "Ans->k must be chosen manually, You must specify the number of clusters in advance.\n",
    "\n"
   ]
  }
 ],
 "metadata": {
  "kernelspec": {
   "display_name": "Python 3 (ipykernel)",
   "language": "python",
   "name": "python3"
  },
  "language_info": {
   "codemirror_mode": {
    "name": "ipython",
    "version": 3
   },
   "file_extension": ".py",
   "mimetype": "text/x-python",
   "name": "python",
   "nbconvert_exporter": "python",
   "pygments_lexer": "ipython3",
   "version": "3.10.8"
  }
 },
 "nbformat": 4,
 "nbformat_minor": 5
}
